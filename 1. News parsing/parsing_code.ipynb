{
 "cells": [
  {
   "cell_type": "markdown",
   "metadata": {},
   "source": [
    "!pip install pymystem3 selenium html2text requests beautifulsoup4 atlas json2xml  \n",
    "\n",
    "Don't forget to install **[Chrome Driver](https://sites.google.com/a/chromium.org/chromedriver/downloads)**"
   ]
  },
  {
   "cell_type": "code",
   "execution_count": 1,
   "metadata": {},
   "outputs": [
    {
     "name": "stdout",
     "output_type": "stream",
     "text": [
      "Requirement already satisfied: pymystem3 in c:\\users\\artem\\anaconda\\lib\\site-packages (0.2.0)\n",
      "Requirement already satisfied: selenium in c:\\users\\artem\\anaconda\\lib\\site-packages (4.1.0)\n",
      "Requirement already satisfied: html2text in c:\\users\\artem\\anaconda\\lib\\site-packages (2020.1.16)\n",
      "Requirement already satisfied: requests in c:\\users\\artem\\anaconda\\lib\\site-packages (2.26.0)\n",
      "Requirement already satisfied: beautifulsoup4 in c:\\users\\artem\\anaconda\\lib\\site-packages (4.9.3)\n",
      "Requirement already satisfied: atlas in c:\\users\\artem\\anaconda\\lib\\site-packages (0.27.0)\n",
      "Requirement already satisfied: json2xml in c:\\users\\artem\\anaconda\\lib\\site-packages (3.9.0)\n",
      "Requirement already satisfied: threadpool>=1.2.4 in c:\\users\\artem\\anaconda\\lib\\site-packages (from atlas) (1.3.2)\n",
      "Requirement already satisfied: soupsieve>1.2 in c:\\users\\artem\\anaconda\\lib\\site-packages (from beautifulsoup4) (2.2.1)\n",
      "Requirement already satisfied: charset-normalizer==2.0.6 in c:\\users\\artem\\anaconda\\lib\\site-packages (from json2xml) (2.0.6)\n",
      "Requirement already satisfied: idna==3.2 in c:\\users\\artem\\anaconda\\lib\\site-packages (from json2xml) (3.2)\n",
      "Requirement already satisfied: defusedxml==0.7.1 in c:\\users\\artem\\anaconda\\lib\\site-packages (from json2xml) (0.7.1)\n",
      "Requirement already satisfied: py==1.10.0 in c:\\users\\artem\\anaconda\\lib\\site-packages (from json2xml) (1.10.0)\n",
      "Requirement already satisfied: pytest==6.2.5 in c:\\users\\artem\\anaconda\\lib\\site-packages (from json2xml) (6.2.5)\n",
      "Requirement already satisfied: attrs==21.2.0 in c:\\users\\artem\\anaconda\\lib\\site-packages (from json2xml) (21.2.0)\n",
      "Requirement already satisfied: pyparsing==2.4.7 in c:\\users\\artem\\anaconda\\lib\\site-packages (from json2xml) (2.4.7)\n",
      "Requirement already satisfied: xmltodict==0.12.0 in c:\\users\\artem\\anaconda\\lib\\site-packages (from json2xml) (0.12.0)\n",
      "Requirement already satisfied: typing-extensions==3.10.0.2 in c:\\users\\artem\\anaconda\\lib\\site-packages (from json2xml) (3.10.0.2)\n",
      "Requirement already satisfied: toml==0.10.2 in c:\\users\\artem\\anaconda\\lib\\site-packages (from json2xml) (0.10.2)\n",
      "Requirement already satisfied: iniconfig==1.1.1 in c:\\users\\artem\\anaconda\\lib\\site-packages (from json2xml) (1.1.1)\n",
      "Requirement already satisfied: certifi==2021.5.30 in c:\\users\\artem\\anaconda\\lib\\site-packages (from json2xml) (2021.5.30)\n",
      "Requirement already satisfied: zipp==3.6.0 in c:\\users\\artem\\anaconda\\lib\\site-packages (from json2xml) (3.6.0)\n",
      "Requirement already satisfied: importlib-metadata==4.8.1 in c:\\users\\artem\\anaconda\\lib\\site-packages (from json2xml) (4.8.1)\n",
      "Requirement already satisfied: urllib3==1.26.7 in c:\\users\\artem\\anaconda\\lib\\site-packages (from json2xml) (1.26.7)\n",
      "Requirement already satisfied: packaging==21.0 in c:\\users\\artem\\anaconda\\lib\\site-packages (from json2xml) (21.0)\n",
      "Requirement already satisfied: pluggy==1.0.0 in c:\\users\\artem\\anaconda\\lib\\site-packages (from json2xml) (1.0.0)\n",
      "Requirement already satisfied: atomicwrites>=1.0 in c:\\users\\artem\\anaconda\\lib\\site-packages (from pytest==6.2.5->json2xml) (1.4.0)\n",
      "Requirement already satisfied: colorama in c:\\users\\artem\\anaconda\\lib\\site-packages (from pytest==6.2.5->json2xml) (0.4.4)\n",
      "Requirement already satisfied: trio-websocket~=0.9 in c:\\users\\artem\\anaconda\\lib\\site-packages (from selenium) (0.9.2)\n",
      "Requirement already satisfied: trio~=0.17 in c:\\users\\artem\\anaconda\\lib\\site-packages (from selenium) (0.19.0)\n",
      "Requirement already satisfied: sortedcontainers in c:\\users\\artem\\anaconda\\lib\\site-packages (from trio~=0.17->selenium) (2.3.0)\n",
      "Requirement already satisfied: async-generator>=1.9 in c:\\users\\artem\\anaconda\\lib\\site-packages (from trio~=0.17->selenium) (1.10)\n",
      "Requirement already satisfied: sniffio in c:\\users\\artem\\anaconda\\lib\\site-packages (from trio~=0.17->selenium) (1.2.0)\n",
      "Requirement already satisfied: outcome in c:\\users\\artem\\anaconda\\lib\\site-packages (from trio~=0.17->selenium) (1.1.0)\n",
      "Requirement already satisfied: cffi>=1.14 in c:\\users\\artem\\anaconda\\lib\\site-packages (from trio~=0.17->selenium) (1.14.5)\n",
      "Requirement already satisfied: pycparser in c:\\users\\artem\\anaconda\\lib\\site-packages (from cffi>=1.14->trio~=0.17->selenium) (2.20)\n",
      "Requirement already satisfied: wsproto>=0.14 in c:\\users\\artem\\anaconda\\lib\\site-packages (from trio-websocket~=0.9->selenium) (1.0.0)\n",
      "Requirement already satisfied: pyOpenSSL>=0.14 in c:\\users\\artem\\anaconda\\lib\\site-packages (from urllib3==1.26.7->json2xml) (20.0.1)\n",
      "Requirement already satisfied: cryptography>=1.3.4 in c:\\users\\artem\\anaconda\\lib\\site-packages (from urllib3==1.26.7->json2xml) (3.4.7)\n",
      "Requirement already satisfied: six>=1.5.2 in c:\\users\\artem\\anaconda\\lib\\site-packages (from pyOpenSSL>=0.14->urllib3==1.26.7->json2xml) (1.15.0)\n",
      "Requirement already satisfied: h11<1,>=0.9.0 in c:\\users\\artem\\anaconda\\lib\\site-packages (from wsproto>=0.14->trio-websocket~=0.9->selenium) (0.12.0)\n"
     ]
    }
   ],
   "source": [
    "!pip install pymystem3 selenium html2text requests beautifulsoup4 atlas json2xml  "
   ]
  },
  {
   "cell_type": "code",
   "execution_count": 2,
   "metadata": {},
   "outputs": [],
   "source": [
    "from selenium.webdriver import Chrome\n",
    "from selenium.webdriver.chrome.options import Options\n",
    "\n",
    "from time import sleep\n",
    "import tqdm\n",
    "import json\n",
    "import time\n",
    "\n",
    "import requests\n",
    "from bs4 import BeautifulSoup\n",
    "from html2text import html2text\n",
    "\n",
    "import pandas as pd\n",
    "\n",
    "from sklearn.feature_extraction.text import CountVectorizer"
   ]
  },
  {
   "cell_type": "code",
   "execution_count": 3,
   "metadata": {},
   "outputs": [],
   "source": [
    "import warnings\n",
    "warnings.filterwarnings('ignore')"
   ]
  },
  {
   "cell_type": "markdown",
   "metadata": {},
   "source": [
    "## 1. Парсинг URL адресов с новостями (Selenium)"
   ]
  },
  {
   "cell_type": "code",
   "execution_count": 140,
   "metadata": {},
   "outputs": [],
   "source": [
    "#Download driver using the link at the top of the notebook\n",
    "chrome_driver_path = \"chromedriver.exe\"\n",
    "links_filename = \"links.txt\""
   ]
  },
  {
   "cell_type": "code",
   "execution_count": 141,
   "metadata": {},
   "outputs": [],
   "source": [
    "categories = [\"incidents\",\"economy\", \"society\", \"science\", \"defense_safety\"]"
   ]
  },
  {
   "cell_type": "code",
   "execution_count": 40,
   "metadata": {},
   "outputs": [],
   "source": [
    "def parse_category_ria(category, scrolls_num=200, scroll_size=500):\n",
    "    \n",
    "    links = []\n",
    "    prefs = {\"profile.managed_default_content_settings.images\": 2,\n",
    "             \"profile.default_content_settings.cookies\": 2}\n",
    "    \n",
    "    # configuring driver\n",
    "    chrome_options = Options()\n",
    "    chrome_options.add_extension('adblock.crx')\n",
    "    chrome_options.add_experimental_option(\"prefs\",prefs)\n",
    "    chrome_options.add_argument('--disable-application-cache')\n",
    "    driver = Chrome(executable_path=chrome_driver_path, chrome_options=chrome_options)\n",
    "    driver.implicitly_wait(10)\n",
    "    driver.close()\n",
    "    print(\"Current session is {}\".format(driver.session_id))\n",
    "    \n",
    "    # configuring adblock\n",
    "    driver.switch_to.window(driver.window_handles[0])\n",
    "    driver.get('chrome-extension://gighmmpiobklfepjocnamgkkbiglidom/options.html')\n",
    "    driver.find_element_by_id('acceptable_ads').click()#adblock customization\n",
    "    \n",
    "    # parse articles list\n",
    "    try:\n",
    "        \n",
    "        driver.get('https://ria.ru/' + category + '/')\n",
    "        element = driver.find_element_by_class_name('list-more')\n",
    "        \n",
    "        # finding the position of 'Show More' button\n",
    "        driver.execute_script(f\"window.scrollTo(0, {element.location['y'] - 100});\")\n",
    "        \n",
    "        # click on 'Show More' button\n",
    "        driver.find_element_by_class_name('list-more').click()\n",
    "        \n",
    "        # scrolling webpage to get more articles\n",
    "        for i in tqdm.tqdm(range(1, scrolls_num + 1)):\n",
    "            driver.execute_script(f\"window.scrollTo(0, {scroll_size*i});\")\n",
    "            sleep(0.2)\n",
    "\n",
    "        # retrieving articles links\n",
    "        for element in tqdm.tqdm(driver.find_elements_by_class_name(\"list-item\"),position=0):\n",
    "            links.append(element.find_element_by_tag_name('a').get_attribute('href'))\n",
    "            #print(element.find_element_by_tag_name('a').get_attribute('href'))\n",
    "    \n",
    "    finally:    \n",
    "        driver.quit()\n",
    "        \n",
    "    return links"
   ]
  },
  {
   "cell_type": "code",
   "execution_count": 41,
   "metadata": {},
   "outputs": [],
   "source": [
    "# links = parse_category_ria('defense_safety', scrolls_num=30, scroll_size=300)"
   ]
  },
  {
   "cell_type": "code",
   "execution_count": 47,
   "metadata": {},
   "outputs": [],
   "source": [
    "def get_articles_links(categories, output):\n",
    "    for category in categories:\n",
    "        with open(output,'a') as file:\n",
    "            links = parse_category_ria(category, scrolls_num=2000, scroll_size=150)\n",
    "            print(category, ':' ,len(links))\n",
    "            for link in links:\n",
    "                file.write(json.dumps({\n",
    "                    'link' :link,\n",
    "                    'category': category\n",
    "                },ensure_ascii=False) + '\\n')"
   ]
  },
  {
   "cell_type": "code",
   "execution_count": 48,
   "metadata": {},
   "outputs": [
    {
     "name": "stdout",
     "output_type": "stream",
     "text": [
      "Current session is 44ba512f344ad5f4f5a57a8ea0172bb7\n"
     ]
    },
    {
     "name": "stderr",
     "output_type": "stream",
     "text": [
      "100%|██████████████████████████████████████████████████████████████████████████████| 2000/2000 [07:53<00:00,  4.22it/s]\n",
      "100%|██████████████████████████████████████████████████████████████████████████████| 1620/1620 [00:43<00:00, 37.25it/s]\n"
     ]
    },
    {
     "name": "stdout",
     "output_type": "stream",
     "text": [
      "incidents : 1620\n",
      "Current session is 34d5d82a9db45bb1e223e63754e0427e\n"
     ]
    },
    {
     "name": "stderr",
     "output_type": "stream",
     "text": [
      "100%|██████████████████████████████████████████████████████████████████████████████| 2000/2000 [08:38<00:00,  3.86it/s]\n",
      "100%|██████████████████████████████████████████████████████████████████████████████| 1560/1560 [00:42<00:00, 37.11it/s]\n"
     ]
    },
    {
     "name": "stdout",
     "output_type": "stream",
     "text": [
      "economy : 1560\n",
      "Current session is f364bd91b40d46a8677cf8dd8ebe5479\n"
     ]
    },
    {
     "name": "stderr",
     "output_type": "stream",
     "text": [
      "100%|██████████████████████████████████████████████████████████████████████████████| 2000/2000 [07:42<00:00,  4.32it/s]\n",
      "100%|██████████████████████████████████████████████████████████████████████████████| 1572/1572 [00:42<00:00, 36.82it/s]\n"
     ]
    },
    {
     "name": "stdout",
     "output_type": "stream",
     "text": [
      "society : 1572\n",
      "Current session is ad6c6da4d0e0bc265baa958c818f532a\n"
     ]
    },
    {
     "name": "stderr",
     "output_type": "stream",
     "text": [
      "100%|██████████████████████████████████████████████████████████████████████████████| 2000/2000 [08:51<00:00,  3.76it/s]\n",
      "100%|██████████████████████████████████████████████████████████████████████████████| 1480/1480 [00:38<00:00, 37.97it/s]\n"
     ]
    },
    {
     "name": "stdout",
     "output_type": "stream",
     "text": [
      "science : 1480\n",
      "Current session is 2526046b18b0a598c0e78d2ae0e53b4e\n"
     ]
    },
    {
     "name": "stderr",
     "output_type": "stream",
     "text": [
      "100%|██████████████████████████████████████████████████████████████████████████████| 2000/2000 [08:39<00:00,  3.85it/s]\n",
      "100%|██████████████████████████████████████████████████████████████████████████████| 1460/1460 [00:39<00:00, 36.75it/s]\n"
     ]
    },
    {
     "name": "stdout",
     "output_type": "stream",
     "text": [
      "defense_safety : 1460\n"
     ]
    }
   ],
   "source": [
    "get_articles_links(categories, links_filename)"
   ]
  },
  {
   "cell_type": "markdown",
   "metadata": {},
   "source": [
    "## 2. Парсинг новостей РИА Новости"
   ]
  },
  {
   "cell_type": "code",
   "execution_count": 144,
   "metadata": {},
   "outputs": [],
   "source": [
    "posts = []\n",
    "with open(links_filename) as file:\n",
    "    for line in file:\n",
    "        posts.append(json.loads(line))"
   ]
  },
  {
   "cell_type": "code",
   "execution_count": 146,
   "metadata": {},
   "outputs": [
    {
     "name": "stderr",
     "output_type": "stream",
     "text": [
      "  4%|██▋                                                                          | 271/7692 [04:39<2:47:09,  1.35s/it]"
     ]
    },
    {
     "name": "stdout",
     "output_type": "stream",
     "text": [
      "Err in https://ria.ru/20220111/sud-1767361637.html\n"
     ]
    },
    {
     "name": "stderr",
     "output_type": "stream",
     "text": [
      " 12%|█████████▏                                                                   | 914/7692 [15:48<1:22:06,  1.38it/s]"
     ]
    },
    {
     "name": "stdout",
     "output_type": "stream",
     "text": [
      "Err in https://ria.ru/20211224/moshennichestvo-1765421360.html\n"
     ]
    },
    {
     "name": "stderr",
     "output_type": "stream",
     "text": [
      " 22%|████████████████▍                                                           | 1659/7692 [28:39<1:56:10,  1.16s/it]"
     ]
    },
    {
     "name": "stdout",
     "output_type": "stream",
     "text": [
      "Err in https://radiosputnik.ria.ru/20220114/polsha-1767894505.html\n"
     ]
    },
    {
     "name": "stderr",
     "output_type": "stream",
     "text": [
      " 22%|████████████████▌                                                           | 1673/7692 [28:50<1:10:38,  1.42it/s]"
     ]
    },
    {
     "name": "stdout",
     "output_type": "stream",
     "text": [
      "Err in https://ria.ru/20220114/gaz-1767860344.html\n"
     ]
    },
    {
     "name": "stderr",
     "output_type": "stream",
     "text": [
      " 23%|█████████████████▎                                                          | 1753/7692 [30:01<1:22:50,  1.19it/s]"
     ]
    },
    {
     "name": "stdout",
     "output_type": "stream",
     "text": [
      "Err in https://ria.ru/20220112/reyting-1767502881.html\n"
     ]
    },
    {
     "name": "stderr",
     "output_type": "stream",
     "text": [
      " 23%|█████████████████▋                                                          | 1791/7692 [30:34<1:35:00,  1.04it/s]"
     ]
    },
    {
     "name": "stdout",
     "output_type": "stream",
     "text": [
      "Err in https://ria.ru/20220111/lenoblast-1767291258.html\n"
     ]
    },
    {
     "name": "stderr",
     "output_type": "stream",
     "text": [
      " 24%|██████████████████▌                                                         | 1882/7692 [32:00<1:35:57,  1.01it/s]"
     ]
    },
    {
     "name": "stdout",
     "output_type": "stream",
     "text": [
      "Err in https://radiosputnik.ria.ru/20220104/pushkov-1766539498.html\n"
     ]
    },
    {
     "name": "stderr",
     "output_type": "stream",
     "text": [
      " 25%|███████████████████▏                                                        | 1947/7692 [33:05<1:43:07,  1.08s/it]"
     ]
    },
    {
     "name": "stdout",
     "output_type": "stream",
     "text": [
      "Err in https://ria.ru/20220101/vina-1766357106.html\n"
     ]
    },
    {
     "name": "stderr",
     "output_type": "stream",
     "text": [
      " 26%|███████████████████▍                                                        | 1965/7692 [33:21<1:30:16,  1.06it/s]"
     ]
    },
    {
     "name": "stdout",
     "output_type": "stream",
     "text": [
      "Err in https://ria.ru/20211231/ipoteka-1766283100.html\n"
     ]
    },
    {
     "name": "stderr",
     "output_type": "stream",
     "text": [
      " 28%|████████████████████▉                                                       | 2120/7692 [36:03<1:49:27,  1.18s/it]"
     ]
    },
    {
     "name": "stdout",
     "output_type": "stream",
     "text": [
      "Err in https://ria.ru/20211228/birichevskiy-1765659345.html\n"
     ]
    },
    {
     "name": "stderr",
     "output_type": "stream",
     "text": [
      "\r",
      " 28%|████████████████████▉                                                       | 2121/7692 [36:04<1:34:48,  1.02s/it]"
     ]
    },
    {
     "name": "stdout",
     "output_type": "stream",
     "text": [
      "Err in https://ria.ru/20211228/mid-1765764306.html\n"
     ]
    },
    {
     "name": "stderr",
     "output_type": "stream",
     "text": [
      " 28%|████████████████████▉                                                       | 2124/7692 [36:07<1:37:53,  1.05s/it]"
     ]
    },
    {
     "name": "stdout",
     "output_type": "stream",
     "text": [
      "Err in https://ria.ru/20211228/sanktsii-1765762397.html\n"
     ]
    },
    {
     "name": "stderr",
     "output_type": "stream",
     "text": [
      " 28%|█████████████████████▎                                                      | 2163/7692 [36:45<1:18:18,  1.18it/s]"
     ]
    },
    {
     "name": "stdout",
     "output_type": "stream",
     "text": [
      "Err in https://ria.ru/20211227/maski-1763471589.html\n"
     ]
    },
    {
     "name": "stderr",
     "output_type": "stream",
     "text": [
      " 28%|█████████████████████▌                                                      | 2178/7692 [37:02<1:55:40,  1.26s/it]"
     ]
    },
    {
     "name": "stdout",
     "output_type": "stream",
     "text": [
      "Err in https://ria.ru/20211226/predprinimatel-1765444927.html\n"
     ]
    },
    {
     "name": "stderr",
     "output_type": "stream",
     "text": [
      " 28%|█████████████████████▌                                                      | 2181/7692 [37:05<1:32:40,  1.01s/it]"
     ]
    },
    {
     "name": "stdout",
     "output_type": "stream",
     "text": [
      "Err in https://ria.ru/20211225/erdogan-1765504508.html\n"
     ]
    },
    {
     "name": "stderr",
     "output_type": "stream",
     "text": [
      " 29%|██████████████████████▎                                                     | 2255/7692 [38:22<1:28:11,  1.03it/s]"
     ]
    },
    {
     "name": "stdout",
     "output_type": "stream",
     "text": [
      "Err in https://ria.ru/20211223/mutaliev-1765235836.html\n"
     ]
    },
    {
     "name": "stderr",
     "output_type": "stream",
     "text": [
      " 32%|███████████████████████▉                                                    | 2428/7692 [41:22<1:16:18,  1.15it/s]"
     ]
    },
    {
     "name": "stdout",
     "output_type": "stream",
     "text": [
      "Err in https://ria.ru/20211220/evro-1764612824.html\n"
     ]
    },
    {
     "name": "stderr",
     "output_type": "stream",
     "text": [
      " 33%|█████████████████████████▍                                                  | 2576/7692 [43:48<1:14:25,  1.15it/s]"
     ]
    },
    {
     "name": "stdout",
     "output_type": "stream",
     "text": [
      "Err in https://ria.ru/20211216/posledstviya-1764081480.html\n"
     ]
    },
    {
     "name": "stderr",
     "output_type": "stream",
     "text": [
      " 34%|█████████████████████████▌                                                  | 2581/7692 [43:52<1:18:36,  1.08it/s]"
     ]
    },
    {
     "name": "stdout",
     "output_type": "stream",
     "text": [
      "Err in https://ria.ru/20211216/goszakupki-1763995156.html\n"
     ]
    },
    {
     "name": "stderr",
     "output_type": "stream",
     "text": [
      " 35%|██████████████████████████▉                                                 | 2725/7692 [46:27<1:21:59,  1.01it/s]"
     ]
    },
    {
     "name": "stdout",
     "output_type": "stream",
     "text": [
      "Err in https://ria.ru/20211214/kapusta-1763589554.html\n"
     ]
    },
    {
     "name": "stderr",
     "output_type": "stream",
     "text": [
      " 36%|███████████████████████████▌                                                | 2784/7692 [47:28<1:08:33,  1.19it/s]"
     ]
    },
    {
     "name": "stdout",
     "output_type": "stream",
     "text": [
      "Err in https://ria.ru/20211210/kredit-1763212441.html\n"
     ]
    },
    {
     "name": "stderr",
     "output_type": "stream",
     "text": [
      " 38%|█████████████████████████████▏                                              | 2957/7692 [50:34<1:41:25,  1.29s/it]"
     ]
    },
    {
     "name": "stdout",
     "output_type": "stream",
     "text": [
      "Err in https://ria.ru/20211207/plotnikov-1762458472.html\n"
     ]
    },
    {
     "name": "stderr",
     "output_type": "stream",
     "text": [
      " 39%|█████████████████████████████▉                                              | 3032/7692 [51:56<1:16:38,  1.01it/s]"
     ]
    },
    {
     "name": "stdout",
     "output_type": "stream",
     "text": [
      "Err in https://ria.ru/20211204/turkiye-1762176320.html\n"
     ]
    },
    {
     "name": "stderr",
     "output_type": "stream",
     "text": [
      " 40%|██████████████████████████████                                              | 3040/7692 [52:04<1:17:28,  1.00it/s]"
     ]
    },
    {
     "name": "stdout",
     "output_type": "stream",
     "text": [
      "Err in https://ria.ru/20211204/potok-1762138761.html\n"
     ]
    },
    {
     "name": "stderr",
     "output_type": "stream",
     "text": [
      " 40%|██████████████████████████████▏                                             | 3051/7692 [52:16<1:23:18,  1.08s/it]"
     ]
    },
    {
     "name": "stdout",
     "output_type": "stream",
     "text": [
      "Err in https://ria.ru/20211203/avtomobil-1762090465.html\n"
     ]
    },
    {
     "name": "stderr",
     "output_type": "stream",
     "text": [
      " 40%|██████████████████████████████▎                                             | 3068/7692 [52:33<1:10:47,  1.09it/s]"
     ]
    },
    {
     "name": "stdout",
     "output_type": "stream",
     "text": [
      "Err in https://ria.ru/20211203/minpromtorg-konkurs-1760921066.html\n"
     ]
    },
    {
     "name": "stderr",
     "output_type": "stream",
     "text": [
      " 43%|████████████████████████████████▊                                           | 3317/7692 [56:23<1:04:08,  1.14it/s]"
     ]
    },
    {
     "name": "stdout",
     "output_type": "stream",
     "text": [
      "Err in https://ria.ru/20220114/trudoustroystvo-1767894726.html\n"
     ]
    },
    {
     "name": "stderr",
     "output_type": "stream",
     "text": [
      " 50%|████████████████████████████████████▊                                     | 3825/7692 [1:04:41<1:26:40,  1.34s/it]"
     ]
    },
    {
     "name": "stdout",
     "output_type": "stream",
     "text": [
      "Err in https://radiosputnik.ria.ru/20220107/besporyadki-1766887674.html\n"
     ]
    },
    {
     "name": "stderr",
     "output_type": "stream",
     "text": [
      " 50%|████████████████████████████████████▉                                     | 3836/7692 [1:04:57<1:29:02,  1.39s/it]"
     ]
    },
    {
     "name": "stdout",
     "output_type": "stream",
     "text": [
      "Err in https://ria.ru/20220107/konkurs-1766854018.html\n"
     ]
    },
    {
     "name": "stderr",
     "output_type": "stream",
     "text": [
      " 50%|█████████████████████████████████████▎                                    | 3876/7692 [1:05:49<1:40:39,  1.58s/it]"
     ]
    },
    {
     "name": "stdout",
     "output_type": "stream",
     "text": [
      "Err in https://ria.ru/20220106/telekanaly-1766786246.html\n"
     ]
    },
    {
     "name": "stderr",
     "output_type": "stream",
     "text": [
      " 54%|███████████████████████████████████████▊                                  | 4144/7692 [1:10:56<1:05:18,  1.10s/it]"
     ]
    },
    {
     "name": "stdout",
     "output_type": "stream",
     "text": [
      "Err in https://ria.ru/20220102/qr-kody-1766395978.html\n"
     ]
    },
    {
     "name": "stderr",
     "output_type": "stream",
     "text": [
      " 54%|████████████████████████████████████████▏                                 | 4182/7692 [1:11:42<1:20:01,  1.37s/it]"
     ]
    },
    {
     "name": "stdout",
     "output_type": "stream",
     "text": [
      "Err in https://ria.ru/20220101/apellyatsiya-1766346997.html\n"
     ]
    },
    {
     "name": "stderr",
     "output_type": "stream",
     "text": [
      " 55%|█████████████████████████████████████████▋                                  | 4223/7692 [1:12:23<50:31,  1.14it/s]"
     ]
    },
    {
     "name": "stdout",
     "output_type": "stream",
     "text": [
      "Err in https://ria.ru/20211231/pensiya-1766311522.html\n"
     ]
    },
    {
     "name": "stderr",
     "output_type": "stream",
     "text": [
      " 55%|█████████████████████████████████████████▉                                  | 4241/7692 [1:12:43<57:57,  1.01s/it]"
     ]
    },
    {
     "name": "stdout",
     "output_type": "stream",
     "text": [
      "Err in https://ria.ru/20211231/shtraf-1766296959.html\n"
     ]
    },
    {
     "name": "stderr",
     "output_type": "stream",
     "text": [
      " 58%|████████████████████████████████████████████▎                               | 4489/7692 [1:17:08<45:11,  1.18it/s]"
     ]
    },
    {
     "name": "stdout",
     "output_type": "stream",
     "text": [
      "Err in https://ria.ru/20211229/zayavlenie-1766006282.html\n"
     ]
    },
    {
     "name": "stderr",
     "output_type": "stream",
     "text": [
      " 61%|██████████████████████████████████████████████▎                             | 4685/7692 [1:20:40<37:53,  1.32it/s]"
     ]
    },
    {
     "name": "stdout",
     "output_type": "stream",
     "text": [
      "Err in https://ria.ru/20211228/kompensatsiya-1765736613.html\n"
     ]
    },
    {
     "name": "stderr",
     "output_type": "stream",
     "text": [
      " 62%|███████████████████████████████████████████████                             | 4764/7692 [1:21:55<22:50,  2.14it/s]"
     ]
    },
    {
     "name": "stdout",
     "output_type": "stream",
     "text": [
      "Err in https://ria.ru/20220113/bozon-1767681998.html\n"
     ]
    },
    {
     "name": "stderr",
     "output_type": "stream",
     "text": [
      " 62%|███████████████████████████████████████████████                             | 4767/7692 [1:21:56<22:52,  2.13it/s]"
     ]
    },
    {
     "name": "stdout",
     "output_type": "stream",
     "text": [
      "Err in https://ria.ru/20220113/mifi-1767535459.html\n"
     ]
    },
    {
     "name": "stderr",
     "output_type": "stream",
     "text": [
      " 62%|███████████████████████████████████████████████▏                            | 4770/7692 [1:21:58<24:54,  1.96it/s]"
     ]
    },
    {
     "name": "stdout",
     "output_type": "stream",
     "text": [
      "Err in https://ria.ru/20220112/puzyr-1767541944.html\n"
     ]
    },
    {
     "name": "stderr",
     "output_type": "stream",
     "text": [
      "\r",
      " 62%|███████████████████████████████████████████████▏                            | 4771/7692 [1:21:59<26:21,  1.85it/s]"
     ]
    },
    {
     "name": "stdout",
     "output_type": "stream",
     "text": [
      "Err in https://ria.ru/20220112/chelovek-1767526780.html\n"
     ]
    },
    {
     "name": "stderr",
     "output_type": "stream",
     "text": [
      " 62%|███████████████████████████████████████████████▏                            | 4774/7692 [1:22:01<30:15,  1.61it/s]"
     ]
    },
    {
     "name": "stdout",
     "output_type": "stream",
     "text": [
      "Err in https://ria.ru/20220112/linux-1767474900.html\n"
     ]
    },
    {
     "name": "stderr",
     "output_type": "stream",
     "text": [
      " 62%|███████████████████████████████████████████████▎                            | 4790/7692 [1:22:13<38:14,  1.26it/s]"
     ]
    },
    {
     "name": "stdout",
     "output_type": "stream",
     "text": [
      "Err in https://ria.ru/20220110/maslo-1767210437.html\n"
     ]
    },
    {
     "name": "stderr",
     "output_type": "stream",
     "text": [
      " 63%|███████████████████████████████████████████████▉                            | 4847/7692 [1:23:04<51:01,  1.08s/it]"
     ]
    },
    {
     "name": "stdout",
     "output_type": "stream",
     "text": [
      "Err in https://ria.ru/20211226/nanomeditsina-1765355065.html\n"
     ]
    },
    {
     "name": "stderr",
     "output_type": "stream",
     "text": [
      " 63%|████████████████████████████████████████████████                            | 4861/7692 [1:23:16<41:00,  1.15it/s]"
     ]
    },
    {
     "name": "stdout",
     "output_type": "stream",
     "text": [
      "Err in https://ria.ru/20211222/evolyutsiya-1764975985.html\n"
     ]
    },
    {
     "name": "stderr",
     "output_type": "stream",
     "text": [
      " 63%|████████████████████████████████████████████████                            | 4863/7692 [1:23:18<48:58,  1.04s/it]"
     ]
    },
    {
     "name": "stdout",
     "output_type": "stream",
     "text": [
      "Err in https://ria.ru/20211222/dieta-1764941625.html\n"
     ]
    },
    {
     "name": "stderr",
     "output_type": "stream",
     "text": [
      " 64%|████████████████████████████████████████████████▋                           | 4924/7692 [1:24:17<51:14,  1.11s/it]"
     ]
    },
    {
     "name": "stdout",
     "output_type": "stream",
     "text": [
      "Err in https://ria.ru/20211214/arktika-1763636728.html\n"
     ]
    },
    {
     "name": "stderr",
     "output_type": "stream",
     "text": [
      " 65%|█████████████████████████████████████████████████                           | 4969/7692 [1:25:03<46:32,  1.03s/it]"
     ]
    },
    {
     "name": "stdout",
     "output_type": "stream",
     "text": [
      "Err in https://ria.ru/20211208/nitu_misis-1762501098.html\n"
     ]
    },
    {
     "name": "stderr",
     "output_type": "stream",
     "text": [
      " 65%|█████████████████████████████████████████████████▎                          | 4992/7692 [1:25:27<39:42,  1.13it/s]"
     ]
    },
    {
     "name": "stdout",
     "output_type": "stream",
     "text": [
      "Err in https://ria.ru/20211207/potentsiya-1762450639.html\n"
     ]
    },
    {
     "name": "stderr",
     "output_type": "stream",
     "text": [
      " 66%|██████████████████████████████████████████████████                          | 5061/7692 [1:26:36<35:28,  1.24it/s]"
     ]
    },
    {
     "name": "stdout",
     "output_type": "stream",
     "text": [
      "Err in https://ria.ru/20211125/realme-1760746709.html\n"
     ]
    },
    {
     "name": "stderr",
     "output_type": "stream",
     "text": [
      " 66%|██████████████████████████████████████████████████▏                         | 5075/7692 [1:26:50<38:50,  1.12it/s]"
     ]
    },
    {
     "name": "stdout",
     "output_type": "stream",
     "text": [
      "Err in https://ria.ru/20211124/yufu-1759813362.html\n"
     ]
    },
    {
     "name": "stderr",
     "output_type": "stream",
     "text": [
      " 66%|██████████████████████████████████████████████████▎                         | 5091/7692 [1:27:06<48:14,  1.11s/it]"
     ]
    },
    {
     "name": "stdout",
     "output_type": "stream",
     "text": [
      "Err in https://ria.ru/20211122/sotsseti-1759458273.html\n"
     ]
    },
    {
     "name": "stderr",
     "output_type": "stream",
     "text": [
      "\r",
      " 66%|██████████████████████████████████████████████████▎                         | 5092/7692 [1:27:08<54:33,  1.26s/it]"
     ]
    },
    {
     "name": "stdout",
     "output_type": "stream",
     "text": [
      "Err in https://ria.ru/20211122/loshad-1759852961.html\n"
     ]
    },
    {
     "name": "stderr",
     "output_type": "stream",
     "text": [
      " 67%|██████████████████████████████████████████████████▋                         | 5136/7692 [1:27:55<50:53,  1.19s/it]"
     ]
    },
    {
     "name": "stdout",
     "output_type": "stream",
     "text": [
      "Err in https://ria.ru/20211111/premiya-1758628575.html\n"
     ]
    },
    {
     "name": "stderr",
     "output_type": "stream",
     "text": [
      " 67%|██████████████████████████████████████████████████▉                         | 5150/7692 [1:28:10<46:13,  1.09s/it]"
     ]
    },
    {
     "name": "stdout",
     "output_type": "stream",
     "text": [
      "Err in https://ria.ru/20211110/sibgmu-1758087554.html\n"
     ]
    },
    {
     "name": "stderr",
     "output_type": "stream",
     "text": [
      " 67%|██████████████████████████████████████████████████▉                         | 5157/7692 [1:28:18<47:14,  1.12s/it]"
     ]
    },
    {
     "name": "stdout",
     "output_type": "stream",
     "text": [
      "Err in https://ria.ru/20211108/nasa-1758141645.html\n"
     ]
    },
    {
     "name": "stderr",
     "output_type": "stream",
     "text": [
      " 67%|██████████████████████████████████████████████████▉                         | 5161/7692 [1:28:22<42:57,  1.02s/it]"
     ]
    },
    {
     "name": "stdout",
     "output_type": "stream",
     "text": [
      "Err in https://ria.ru/20211108/antitela-1758033372.html\n"
     ]
    },
    {
     "name": "stderr",
     "output_type": "stream",
     "text": [
      " 67%|███████████████████████████████████████████████████                         | 5172/7692 [1:28:31<36:10,  1.16it/s]"
     ]
    },
    {
     "name": "stdout",
     "output_type": "stream",
     "text": [
      "Err in https://ria.ru/20211104/revaktsinatsiya-1757540872.html\n"
     ]
    },
    {
     "name": "stderr",
     "output_type": "stream",
     "text": [
      " 67%|███████████████████████████████████████████████████▎                        | 5190/7692 [1:28:50<46:14,  1.11s/it]"
     ]
    },
    {
     "name": "stdout",
     "output_type": "stream",
     "text": [
      "Err in https://ria.ru/20211102/kovid-1757233335.html\n"
     ]
    },
    {
     "name": "stderr",
     "output_type": "stream",
     "text": [
      " 68%|███████████████████████████████████████████████████▍                        | 5206/7692 [1:29:04<36:44,  1.13it/s]"
     ]
    },
    {
     "name": "stdout",
     "output_type": "stream",
     "text": [
      "Err in https://ria.ru/20211028/chelovek-1756757929.html\n"
     ]
    },
    {
     "name": "stderr",
     "output_type": "stream",
     "text": [
      " 68%|███████████████████████████████████████████████████▋                        | 5227/7692 [1:29:27<41:26,  1.01s/it]"
     ]
    },
    {
     "name": "stdout",
     "output_type": "stream",
     "text": [
      "Err in https://ria.ru/20211026/uchenye-1756346889.html\n"
     ]
    },
    {
     "name": "stderr",
     "output_type": "stream",
     "text": [
      " 68%|███████████████████████████████████████████████████▉                        | 5252/7692 [1:29:53<41:22,  1.02s/it]"
     ]
    },
    {
     "name": "stdout",
     "output_type": "stream",
     "text": [
      "Err in https://ria.ru/20211021/kovid-1755635541.html\n"
     ]
    },
    {
     "name": "stderr",
     "output_type": "stream",
     "text": [
      " 68%|███████████████████████████████████████████████████▉                        | 5262/7692 [1:30:05<48:42,  1.20s/it]"
     ]
    },
    {
     "name": "stdout",
     "output_type": "stream",
     "text": [
      "Err in https://ria.ru/20211021/galaktiki-1755467426.html\n"
     ]
    },
    {
     "name": "stderr",
     "output_type": "stream",
     "text": [
      " 69%|████████████████████████████████████████████████████                        | 5272/7692 [1:30:15<39:06,  1.03it/s]"
     ]
    },
    {
     "name": "stdout",
     "output_type": "stream",
     "text": [
      "Err in https://ria.ru/20211020/kovid-1755279609.html\n"
     ]
    },
    {
     "name": "stderr",
     "output_type": "stream",
     "text": [
      " 69%|████████████████████████████████████████████████████▏                       | 5278/7692 [1:30:22<45:38,  1.13s/it]"
     ]
    },
    {
     "name": "stdout",
     "output_type": "stream",
     "text": [
      "Err in https://ria.ru/20211019/sok-1755265696.html\n"
     ]
    },
    {
     "name": "stderr",
     "output_type": "stream",
     "text": [
      " 69%|████████████████████████████████████████████████████▍                       | 5303/7692 [1:30:47<39:59,  1.00s/it]"
     ]
    },
    {
     "name": "stdout",
     "output_type": "stream",
     "text": [
      "Err in https://ria.ru/20211015/orel-1754671445.html\n"
     ]
    },
    {
     "name": "stderr",
     "output_type": "stream",
     "text": [
      " 69%|████████████████████████████████████████████████████▍                       | 5307/7692 [1:30:51<45:50,  1.15s/it]"
     ]
    },
    {
     "name": "stdout",
     "output_type": "stream",
     "text": [
      "Err in https://ria.ru/20211014/produkty-1754606243.html\n"
     ]
    },
    {
     "name": "stderr",
     "output_type": "stream",
     "text": [
      " 69%|████████████████████████████████████████████████████▌                       | 5316/7692 [1:31:00<38:09,  1.04it/s]"
     ]
    },
    {
     "name": "stdout",
     "output_type": "stream",
     "text": [
      "Err in https://ria.ru/20211014/yufu-1754422234.html\n"
     ]
    },
    {
     "name": "stderr",
     "output_type": "stream",
     "text": [
      " 70%|████████████████████████████████████████████████████▉                       | 5358/7692 [1:31:46<46:05,  1.18s/it]"
     ]
    },
    {
     "name": "stdout",
     "output_type": "stream",
     "text": [
      "Err in https://ria.ru/20211007/arakhis-1753576509.html\n"
     ]
    },
    {
     "name": "stderr",
     "output_type": "stream",
     "text": [
      " 70%|████████████████████████████████████████████████████▉                       | 5363/7692 [1:31:51<43:33,  1.12s/it]"
     ]
    },
    {
     "name": "stdout",
     "output_type": "stream",
     "text": [
      "Err in https://ria.ru/20211007/kovid-1753489586.html\n"
     ]
    },
    {
     "name": "stderr",
     "output_type": "stream",
     "text": [
      " 70%|█████████████████████████████████████████████████████                       | 5366/7692 [1:31:55<50:50,  1.31s/it]"
     ]
    },
    {
     "name": "stdout",
     "output_type": "stream",
     "text": [
      "Err in https://ria.ru/20211007/desant-1753443861.html\n"
     ]
    },
    {
     "name": "stderr",
     "output_type": "stream",
     "text": [
      " 70%|█████████████████████████████████████████████████████                       | 5371/7692 [1:32:00<37:38,  1.03it/s]"
     ]
    },
    {
     "name": "stdout",
     "output_type": "stream",
     "text": [
      "Err in https://ria.ru/20211006/bakterii-1753346584.html\n"
     ]
    },
    {
     "name": "stderr",
     "output_type": "stream",
     "text": [
      " 70%|█████████████████████████████████████████████████████▏                      | 5378/7692 [1:32:08<45:04,  1.17s/it]"
     ]
    },
    {
     "name": "stdout",
     "output_type": "stream",
     "text": [
      "Err in https://ria.ru/20211006/kovid-1753215479.html\n"
     ]
    },
    {
     "name": "stderr",
     "output_type": "stream",
     "text": [
      " 70%|█████████████████████████████████████████████████████▍                      | 5413/7692 [1:32:46<37:47,  1.00it/s]"
     ]
    },
    {
     "name": "stdout",
     "output_type": "stream",
     "text": [
      "Err in https://ria.ru/20211001/diabet-1752542765.html\n"
     ]
    },
    {
     "name": "stderr",
     "output_type": "stream",
     "text": [
      " 70%|█████████████████████████████████████████████████████▌                      | 5417/7692 [1:32:50<36:23,  1.04it/s]"
     ]
    },
    {
     "name": "stdout",
     "output_type": "stream",
     "text": [
      "Err in https://ria.ru/20210929/pochki-1752372422.html\n"
     ]
    },
    {
     "name": "stderr",
     "output_type": "stream",
     "text": [
      " 71%|██████████████████████████████████████████████████████▎                     | 5491/7692 [1:34:10<38:31,  1.05s/it]"
     ]
    },
    {
     "name": "stdout",
     "output_type": "stream",
     "text": [
      "Err in https://ria.ru/20210920/rak-1750980146.html\n"
     ]
    },
    {
     "name": "stderr",
     "output_type": "stream",
     "text": [
      " 72%|██████████████████████████████████████████████████████▋                     | 5529/7692 [1:34:48<35:27,  1.02it/s]"
     ]
    },
    {
     "name": "stdout",
     "output_type": "stream",
     "text": [
      "Err in https://ria.ru/20210915/sputniki-1750095466.html\n"
     ]
    },
    {
     "name": "stderr",
     "output_type": "stream",
     "text": [
      " 73%|███████████████████████████████████████████████████████▍                    | 5614/7692 [1:36:16<36:00,  1.04s/it]"
     ]
    },
    {
     "name": "stdout",
     "output_type": "stream",
     "text": [
      "Err in https://ria.ru/20210903/supervulkan-1748532725.html\n"
     ]
    },
    {
     "name": "stderr",
     "output_type": "stream",
     "text": [
      " 74%|████████████████████████████████████████████████████████▏                   | 5691/7692 [1:37:36<38:23,  1.15s/it]"
     ]
    },
    {
     "name": "stdout",
     "output_type": "stream",
     "text": [
      "Err in https://ria.ru/20210826/neandertaltsy-1747361637.html\n"
     ]
    },
    {
     "name": "stderr",
     "output_type": "stream",
     "text": [
      " 74%|████████████████████████████████████████████████████████▏                   | 5693/7692 [1:37:38<32:48,  1.02it/s]"
     ]
    },
    {
     "name": "stdout",
     "output_type": "stream",
     "text": [
      "Err in https://ria.ru/20210826/postkovid-1747323290.html\n"
     ]
    },
    {
     "name": "stderr",
     "output_type": "stream",
     "text": [
      " 74%|████████████████████████████████████████████████████████▌                   | 5721/7692 [1:38:08<43:11,  1.31s/it]"
     ]
    },
    {
     "name": "stdout",
     "output_type": "stream",
     "text": [
      "Err in https://ria.ru/20210824/kuzgtu-1746865907.html\n"
     ]
    },
    {
     "name": "stderr",
     "output_type": "stream",
     "text": [
      " 74%|████████████████████████████████████████████████████████▌                   | 5723/7692 [1:38:10<38:37,  1.18s/it]"
     ]
    },
    {
     "name": "stdout",
     "output_type": "stream",
     "text": [
      "Err in https://ria.ru/20210823/chetveronogie-1746918562.html\n"
     ]
    },
    {
     "name": "stderr",
     "output_type": "stream",
     "text": [
      " 74%|████████████████████████████████████████████████████████▌                   | 5726/7692 [1:38:14<35:27,  1.08s/it]"
     ]
    },
    {
     "name": "stdout",
     "output_type": "stream",
     "text": [
      "Err in https://ria.ru/20210823/gammaluchi-1746884537.html\n"
     ]
    },
    {
     "name": "stderr",
     "output_type": "stream",
     "text": [
      " 75%|████████████████████████████████████████████████████████▊                   | 5745/7692 [1:38:33<34:48,  1.07s/it]"
     ]
    },
    {
     "name": "stdout",
     "output_type": "stream",
     "text": [
      "Err in https://ria.ru/20210818/alkogol-1746250564.html\n"
     ]
    },
    {
     "name": "stderr",
     "output_type": "stream",
     "text": [
      " 75%|████████████████████████████████████████████████████████▊                   | 5753/7692 [1:38:42<36:31,  1.13s/it]"
     ]
    },
    {
     "name": "stdout",
     "output_type": "stream",
     "text": [
      "Err in https://ria.ru/20210817/golodanie-1746080354.html\n"
     ]
    },
    {
     "name": "stderr",
     "output_type": "stream",
     "text": [
      " 75%|████████████████████████████████████████████████████████▉                   | 5758/7692 [1:38:47<35:13,  1.09s/it]"
     ]
    },
    {
     "name": "stdout",
     "output_type": "stream",
     "text": [
      "Err in https://ria.ru/20210816/isk-1745992039.html\n"
     ]
    },
    {
     "name": "stderr",
     "output_type": "stream",
     "text": [
      " 75%|█████████████████████████████████████████████████████████                   | 5769/7692 [1:38:59<34:15,  1.07s/it]"
     ]
    },
    {
     "name": "stdout",
     "output_type": "stream",
     "text": [
      "Err in https://ria.ru/20210814/polistirol-1745718493.html\n"
     ]
    },
    {
     "name": "stderr",
     "output_type": "stream",
     "text": [
      " 75%|█████████████████████████████████████████████████████████▎                  | 5803/7692 [1:39:36<30:14,  1.04it/s]"
     ]
    },
    {
     "name": "stdout",
     "output_type": "stream",
     "text": [
      "Err in https://ria.ru/20210807/dementsiya-1744673975.html\n"
     ]
    },
    {
     "name": "stderr",
     "output_type": "stream",
     "text": [
      " 76%|██████████████████████████████████████████████████████████                  | 5871/7692 [1:40:46<30:53,  1.02s/it]"
     ]
    },
    {
     "name": "stdout",
     "output_type": "stream",
     "text": [
      "Err in https://ria.ru/20210729/starliner-1743524525.html\n"
     ]
    },
    {
     "name": "stderr",
     "output_type": "stream",
     "text": [
      " 76%|██████████████████████████████████████████████████████████                  | 5873/7692 [1:40:49<34:40,  1.14s/it]"
     ]
    },
    {
     "name": "stdout",
     "output_type": "stream",
     "text": [
      "Err in https://ria.ru/20210729/maks-1743514699.html\n"
     ]
    },
    {
     "name": "stderr",
     "output_type": "stream",
     "text": [
      " 76%|██████████████████████████████████████████████████████████                  | 5875/7692 [1:40:51<33:50,  1.12s/it]"
     ]
    },
    {
     "name": "stdout",
     "output_type": "stream",
     "text": [
      "Err in https://ria.ru/20210729/sobaki-1743486811.html\n"
     ]
    },
    {
     "name": "stderr",
     "output_type": "stream",
     "text": [
      "\r",
      " 76%|██████████████████████████████████████████████████████████                  | 5876/7692 [1:40:52<33:42,  1.11s/it]"
     ]
    },
    {
     "name": "stdout",
     "output_type": "stream",
     "text": [
      "Err in https://ria.ru/20210729/mikroby-1743477117.html\n"
     ]
    },
    {
     "name": "stderr",
     "output_type": "stream",
     "text": [
      " 77%|██████████████████████████████████████████████████████████▎                 | 5900/7692 [1:41:17<28:48,  1.04it/s]"
     ]
    },
    {
     "name": "stdout",
     "output_type": "stream",
     "text": [
      "Err in https://ria.ru/20210728/klimat-1743129425.html\n"
     ]
    },
    {
     "name": "stderr",
     "output_type": "stream",
     "text": [
      " 78%|███████████████████████████████████████████████████████████▌                | 6026/7692 [1:43:29<24:50,  1.12it/s]"
     ]
    },
    {
     "name": "stdout",
     "output_type": "stream",
     "text": [
      "Err in https://ria.ru/20210712/urfu-1739916002.html\n"
     ]
    },
    {
     "name": "stderr",
     "output_type": "stream",
     "text": [
      " 80%|████████████████████████████████████████████████████████████▌               | 6133/7692 [1:45:18<29:28,  1.13s/it]"
     ]
    },
    {
     "name": "stdout",
     "output_type": "stream",
     "text": [
      "Err in https://ria.ru/20210624/tpu-1738267315.html\n"
     ]
    },
    {
     "name": "stderr",
     "output_type": "stream",
     "text": [
      " 80%|████████████████████████████████████████████████████████████▉               | 6162/7692 [1:45:51<26:51,  1.05s/it]"
     ]
    },
    {
     "name": "stdout",
     "output_type": "stream",
     "text": [
      "Err in https://ria.ru/20210621/kalmgu-1737533667.html\n"
     ]
    },
    {
     "name": "stderr",
     "output_type": "stream",
     "text": [
      " 80%|████████████████████████████████████████████████████████████▉               | 6171/7692 [1:46:00<26:57,  1.06s/it]"
     ]
    },
    {
     "name": "stdout",
     "output_type": "stream",
     "text": [
      "Err in https://ria.ru/20210617/planety-1737445815.html\n"
     ]
    },
    {
     "name": "stderr",
     "output_type": "stream",
     "text": [
      " 80%|█████████████████████████████████████████████████████████████               | 6179/7692 [1:46:09<28:27,  1.13s/it]"
     ]
    },
    {
     "name": "stdout",
     "output_type": "stream",
     "text": [
      "Err in https://ria.ru/20210616/betelgeyze-1737264613.html\n"
     ]
    },
    {
     "name": "stderr",
     "output_type": "stream",
     "text": [
      " 86%|█████████████████████████████████████████████████████████████████▋          | 6645/7692 [1:54:39<17:15,  1.01it/s]"
     ]
    },
    {
     "name": "stdout",
     "output_type": "stream",
     "text": [
      "Err in https://ria.ru/20211204/gruppirovka-1762140338.html\n"
     ]
    },
    {
     "name": "stderr",
     "output_type": "stream",
     "text": [
      " 88%|██████████████████████████████████████████████████████████████████▉         | 6776/7692 [1:56:42<17:35,  1.15s/it]"
     ]
    },
    {
     "name": "stdout",
     "output_type": "stream",
     "text": [
      "Err in https://ria.ru/20211118/strela-1759587627.html\n"
     ]
    },
    {
     "name": "stderr",
     "output_type": "stream",
     "text": [
      " 90%|████████████████████████████████████████████████████████████████████▋       | 6955/7692 [2:00:06<12:13,  1.00it/s]"
     ]
    },
    {
     "name": "stdout",
     "output_type": "stream",
     "text": [
      "Err in https://ria.ru/20211101/parusnik-1757181709.html\n"
     ]
    },
    {
     "name": "stderr",
     "output_type": "stream",
     "text": [
      " 92%|██████████████████████████████████████████████████████████████████████      | 7095/7692 [2:02:49<11:32,  1.16s/it]"
     ]
    },
    {
     "name": "stdout",
     "output_type": "stream",
     "text": [
      "Err in https://ria.ru/20211012/ucheniya-1754228879.html\n"
     ]
    },
    {
     "name": "stderr",
     "output_type": "stream",
     "text": [
      " 92%|██████████████████████████████████████████████████████████████████████▎     | 7113/7692 [2:03:08<10:37,  1.10s/it]"
     ]
    },
    {
     "name": "stdout",
     "output_type": "stream",
     "text": [
      "Err in https://ria.ru/20211011/surovikin-1753653727.html\n"
     ]
    },
    {
     "name": "stderr",
     "output_type": "stream",
     "text": [
      " 93%|██████████████████████████████████████████████████████████████████████▌     | 7137/7692 [2:03:40<11:32,  1.25s/it]"
     ]
    },
    {
     "name": "stdout",
     "output_type": "stream",
     "text": [
      "Err in https://ria.ru/20211007/desant-1753443861.html\n"
     ]
    },
    {
     "name": "stderr",
     "output_type": "stream",
     "text": [
      " 94%|███████████████████████████████████████████████████████████████████████▍    | 7229/7692 [2:05:30<06:07,  1.26it/s]"
     ]
    },
    {
     "name": "stdout",
     "output_type": "stream",
     "text": [
      "Err in https://ria.ru/20210923/kyzyl-1751252684.html\n"
     ]
    },
    {
     "name": "stderr",
     "output_type": "stream",
     "text": [
      " 95%|████████████████████████████████████████████████████████████████████████    | 7289/7692 [2:06:44<08:20,  1.24s/it]"
     ]
    },
    {
     "name": "stdout",
     "output_type": "stream",
     "text": [
      "Err in https://ria.ru/20210915/ugol-1750234383.html\n"
     ]
    },
    {
     "name": "stderr",
     "output_type": "stream",
     "text": [
      " 95%|████████████████████████████████████████████████████████████████████████▌   | 7342/7692 [2:08:01<08:09,  1.40s/it]"
     ]
    },
    {
     "name": "stdout",
     "output_type": "stream",
     "text": [
      "Err in https://ria.ru/20210910/tank-1749457131.html\n"
     ]
    },
    {
     "name": "stderr",
     "output_type": "stream",
     "text": [
      " 95%|████████████████████████████████████████████████████████████████████████▌   | 7344/7692 [2:08:04<07:56,  1.37s/it]"
     ]
    },
    {
     "name": "stdout",
     "output_type": "stream",
     "text": [
      "Err in https://ria.ru/20210910/dezhurstvo-1749452958.html\n"
     ]
    },
    {
     "name": "stderr",
     "output_type": "stream",
     "text": [
      " 96%|████████████████████████████████████████████████████████████████████████▊   | 7365/7692 [2:08:30<07:01,  1.29s/it]"
     ]
    },
    {
     "name": "stdout",
     "output_type": "stream",
     "text": [
      "Err in https://ria.ru/20210909/raketa-1749276476.html\n"
     ]
    },
    {
     "name": "stderr",
     "output_type": "stream",
     "text": [
      " 96%|████████████████████████████████████████████████████████████████████████▊   | 7373/7692 [2:08:41<06:55,  1.30s/it]"
     ]
    },
    {
     "name": "stdout",
     "output_type": "stream",
     "text": [
      "Err in https://ria.ru/20210907/tank-1748952380.html\n"
     ]
    },
    {
     "name": "stderr",
     "output_type": "stream",
     "text": [
      "100%|████████████████████████████████████████████████████████████████████████████| 7692/7692 [2:15:04<00:00,  1.05s/it]\n"
     ]
    }
   ],
   "source": [
    "for element in tqdm.tqdm(posts):\n",
    "    soup = BeautifulSoup(requests.get(element['link']).text, \"lxml\")\n",
    "    text = ''\n",
    "    tags = []\n",
    "    title = None\n",
    "    \n",
    "    try:\n",
    "        title = soup.find(attrs={'class': 'article__title'}).text\n",
    "\n",
    "        # the first \n",
    "        for paragraph in soup.find_all(attrs={'class': 'article__text'}):\n",
    "            text += html2text(paragraph.text).replace('\\n', ' ') + ' '\n",
    "\n",
    "        for tag in soup.find('div', attrs={'class': 'article__tags'}).find_all('a'):\n",
    "            tags.append(tag.text)\n",
    "    \n",
    "    #     print(title)\n",
    "    #     print(text)\n",
    "    #     print(tags)\n",
    "        with open('ria_news.json','a') as file:\n",
    "            file.write(json.dumps({\n",
    "                'article_id' : element['link'],\n",
    "                'title' : title,\n",
    "                'category': element['category'],\n",
    "                'tags' : tags,\n",
    "                'text': text,\n",
    "            },ensure_ascii=False) + '\\n')\n",
    "    except:\n",
    "        print(f\"Err in {element['link']}\")\n",
    "        pass"
   ]
  },
  {
   "cell_type": "markdown",
   "metadata": {},
   "source": [
    "### Пример парсинга новостной статьи"
   ]
  },
  {
   "cell_type": "code",
   "execution_count": 147,
   "metadata": {},
   "outputs": [
    {
     "name": "stdout",
     "output_type": "stream",
     "text": [
      "Двадцатый самолет ВКС с российскими миротворцами вылетел из Казахстана\n",
      "АЭРОДРОМ \"АЛМАТЫ\" (КАЗАХСТАН), 16 янв - РИА Новости. С аэродрома \"Алматы\" вылетел двадцатый самолет, который доставит в РФ российских миротворцев из состава коллективных сил ОДКБ, сообщили в Минобороны России.   Ранее сообщалось, что в воскресенье 19 самолетов ВКС с российскими миротворцами из состава сил ОДКБ прибыли из Казахстана на подмосковный аэродром \"Чкаловский\".   \"Двадцатый самолет военно-транспортной авиации ВКС России, осуществляющий переброску возвращающихся из Казахстана российских миротворцев из состава Коллективных миротворческих сил ОДКБ, вылетел с аэродрома \"Алматы\", - говорится в сообщении.   Подчеркивается, что самолет Ан-124 \"Руслан\" летит на аэродром \"Чкаловский\" в Подмосковье. \"Перед вылетом подразделения российских миротворцев на аэродроме \"Алматы\" в Республике Казахстан осуществили погрузку военной техники в самолеты военно-транспортной авиации ВКС России\", - добавляется в сообщении.   Массовые протесты в Казахстане начались в первые дни 2022 года - жители городов Жанаозен и Актау на западе страны выступили против двукратного роста цен на сжиженный газ. Позже протесты распространились на другие города, в том числе на Алма-Ату, старую столицу и крупнейший город республики: там началось мародерство, боевики нападали на госучреждения, забирали оружие. В ответ власти ввели чрезвычайное положение по всей стране до 19 января и начали контртеррористическую операцию. По данным ООН, в ходе протестов в Казахстане получили ранения около 1 тысячи человек. По данным МВД республики, погибли 17 казахстанских силовиков, пострадали более 1,3 тысячи.   Утром 5 января президент Казахстана Касым-Жомарт Токаев отправил в отставку правительство и возглавил Совбез. На первом заседании Совбеза под своим руководством Токаев охарактеризовал ситуацию в Казахстане как подрыв целостности государства и сообщил, что обратился за помощью в ОДКБ \"в преодолении террористической угрозы\". Совет коллективной безопасности ОДКБ принял решение направить в Казахстан коллективные миротворческие силы для нормализации обстановки в стране. 7 января Токаев заявил, что террористы, в том числе прибывшие из-за рубежа, продолжают сопротивление, и пообещал уничтожить тех, кто не сложит оружие. Кроме того, президент отметил, что все требования граждан, выражавшиеся в мирных формах, были услышаны.   В четверг, 13 января, было объявлено об успешном завершении миссии ОДКБ, сейчас миротворцы возвращаются из Казахстана.   \n",
      "беспорядки в казахстане\n",
      "безопасность\n",
      "оон\n",
      "московская область (подмосковье)\n",
      "одкб\n",
      "ан-124\n",
      "жанаозен\n",
      "воздушно-космические силы россии\n",
      "касым-жомарт токаев\n",
      "россия\n"
     ]
    }
   ],
   "source": [
    "link = 'https://ria.ru/20220116/mirotvortsy-1768069681.html'\n",
    "soup = BeautifulSoup(requests.get(link).text, \"lxml\")\n",
    "\n",
    "print(soup.find( attrs={'class': 'article__title'}).text)\n",
    "text = ''\n",
    "tags = []\n",
    "for paragraph in soup.find_all(attrs={'class': 'article__text'}):\n",
    "    text += html2text(paragraph.text).replace('\\n', ' ') + ' '\n",
    "print(text)\n",
    "\n",
    "for tag in soup.find('div', attrs={'class': 'article__tags'}).find_all('a'):\n",
    "    print(tag.text.lower())\n",
    "    "
   ]
  },
  {
   "cell_type": "markdown",
   "metadata": {},
   "source": [
    "## 3. Обзор полученных данных"
   ]
  },
  {
   "cell_type": "code",
   "execution_count": 148,
   "metadata": {},
   "outputs": [],
   "source": [
    "news = []\n",
    "with open('ria_news.json') as file:\n",
    "    for line in file:\n",
    "        news.append(json.loads(line))"
   ]
  },
  {
   "cell_type": "code",
   "execution_count": 149,
   "metadata": {},
   "outputs": [],
   "source": [
    "data = pd.DataFrame(news)"
   ]
  },
  {
   "cell_type": "code",
   "execution_count": 150,
   "metadata": {},
   "outputs": [
    {
     "data": {
      "text/plain": [
       "(7489, 7583)"
      ]
     },
     "execution_count": 150,
     "metadata": {},
     "output_type": "execute_result"
    }
   ],
   "source": [
    "len(data['article_id'].unique()), data.shape[0]"
   ]
  },
  {
   "cell_type": "markdown",
   "metadata": {},
   "source": [
    "Возможно, некоторые статьи пересекаются, и для таких статей нужно будет принять решение. Если они имеют более 1й категории, то не совсем понятно, что с ними делать. Если же категория одна и та же, то нужно просто удалить дубликаты."
   ]
  },
  {
   "cell_type": "code",
   "execution_count": 151,
   "metadata": {},
   "outputs": [
    {
     "data": {
      "text/html": [
       "<div>\n",
       "<style scoped>\n",
       "    .dataframe tbody tr th:only-of-type {\n",
       "        vertical-align: middle;\n",
       "    }\n",
       "\n",
       "    .dataframe tbody tr th {\n",
       "        vertical-align: top;\n",
       "    }\n",
       "\n",
       "    .dataframe thead th {\n",
       "        text-align: right;\n",
       "    }\n",
       "</style>\n",
       "<table border=\"1\" class=\"dataframe\">\n",
       "  <thead>\n",
       "    <tr style=\"text-align: right;\">\n",
       "      <th></th>\n",
       "      <th>article_id</th>\n",
       "      <th>category</th>\n",
       "    </tr>\n",
       "  </thead>\n",
       "  <tbody>\n",
       "    <tr>\n",
       "      <th>0</th>\n",
       "      <td>https://ria.ru/20220116/volki-1768107463.html</td>\n",
       "      <td>incidents</td>\n",
       "    </tr>\n",
       "    <tr>\n",
       "      <th>1</th>\n",
       "      <td>https://ria.ru/20220116/salyut-1768103772.html</td>\n",
       "      <td>incidents</td>\n",
       "    </tr>\n",
       "    <tr>\n",
       "      <th>2</th>\n",
       "      <td>https://ria.ru/20220116/dtp-1768101756.html</td>\n",
       "      <td>incidents</td>\n",
       "    </tr>\n",
       "    <tr>\n",
       "      <th>3</th>\n",
       "      <td>https://ria.ru/20220116/pozhar-1768079480.html</td>\n",
       "      <td>incidents</td>\n",
       "    </tr>\n",
       "    <tr>\n",
       "      <th>4</th>\n",
       "      <td>https://ria.ru/20220116/tsisterna-1768078676.html</td>\n",
       "      <td>incidents</td>\n",
       "    </tr>\n",
       "    <tr>\n",
       "      <th>...</th>\n",
       "      <td>...</td>\n",
       "      <td>...</td>\n",
       "    </tr>\n",
       "    <tr>\n",
       "      <th>7578</th>\n",
       "      <td>https://radiosputnik.ria.ru/20210810/tank-1745...</td>\n",
       "      <td>defense_safety</td>\n",
       "    </tr>\n",
       "    <tr>\n",
       "      <th>7579</th>\n",
       "      <td>https://ria.ru/20210810/tsirkon-1745190858.html</td>\n",
       "      <td>defense_safety</td>\n",
       "    </tr>\n",
       "    <tr>\n",
       "      <th>7580</th>\n",
       "      <td>https://ria.ru/20210810/tanki-1745189008.html</td>\n",
       "      <td>defense_safety</td>\n",
       "    </tr>\n",
       "    <tr>\n",
       "      <th>7581</th>\n",
       "      <td>https://ria.ru/20210810/avangard-1745187277.html</td>\n",
       "      <td>defense_safety</td>\n",
       "    </tr>\n",
       "    <tr>\n",
       "      <th>7582</th>\n",
       "      <td>https://ria.ru/20210810/ucheniya-1745182143.html</td>\n",
       "      <td>defense_safety</td>\n",
       "    </tr>\n",
       "  </tbody>\n",
       "</table>\n",
       "<p>7583 rows × 2 columns</p>\n",
       "</div>"
      ],
      "text/plain": [
       "                                             article_id        category\n",
       "0         https://ria.ru/20220116/volki-1768107463.html       incidents\n",
       "1        https://ria.ru/20220116/salyut-1768103772.html       incidents\n",
       "2           https://ria.ru/20220116/dtp-1768101756.html       incidents\n",
       "3        https://ria.ru/20220116/pozhar-1768079480.html       incidents\n",
       "4     https://ria.ru/20220116/tsisterna-1768078676.html       incidents\n",
       "...                                                 ...             ...\n",
       "7578  https://radiosputnik.ria.ru/20210810/tank-1745...  defense_safety\n",
       "7579    https://ria.ru/20210810/tsirkon-1745190858.html  defense_safety\n",
       "7580      https://ria.ru/20210810/tanki-1745189008.html  defense_safety\n",
       "7581   https://ria.ru/20210810/avangard-1745187277.html  defense_safety\n",
       "7582   https://ria.ru/20210810/ucheniya-1745182143.html  defense_safety\n",
       "\n",
       "[7583 rows x 2 columns]"
      ]
     },
     "execution_count": 151,
     "metadata": {},
     "output_type": "execute_result"
    }
   ],
   "source": [
    "data.drop(['tags', 'title', 'text'], axis=1)"
   ]
  },
  {
   "cell_type": "markdown",
   "metadata": {},
   "source": [
    "Как видно, нет повторений в одной категории."
   ]
  },
  {
   "cell_type": "code",
   "execution_count": 152,
   "metadata": {},
   "outputs": [
    {
     "data": {
      "text/html": [
       "<div>\n",
       "<style scoped>\n",
       "    .dataframe tbody tr th:only-of-type {\n",
       "        vertical-align: middle;\n",
       "    }\n",
       "\n",
       "    .dataframe tbody tr th {\n",
       "        vertical-align: top;\n",
       "    }\n",
       "\n",
       "    .dataframe thead th {\n",
       "        text-align: right;\n",
       "    }\n",
       "</style>\n",
       "<table border=\"1\" class=\"dataframe\">\n",
       "  <thead>\n",
       "    <tr style=\"text-align: right;\">\n",
       "      <th></th>\n",
       "      <th>article_id</th>\n",
       "    </tr>\n",
       "  </thead>\n",
       "  <tbody>\n",
       "    <tr>\n",
       "      <th>https://ria.ru/20220113/dolzhniki-1767738212.html</th>\n",
       "      <td>2</td>\n",
       "    </tr>\n",
       "    <tr>\n",
       "      <th>https://radiosputnik.ria.ru/20220115/dtp-1767978450.html</th>\n",
       "      <td>2</td>\n",
       "    </tr>\n",
       "    <tr>\n",
       "      <th>https://ria.ru/20211125/soyuz-1760642188.html</th>\n",
       "      <td>2</td>\n",
       "    </tr>\n",
       "    <tr>\n",
       "      <th>https://ria.ru/20220110/pereboi-1767173614.html</th>\n",
       "      <td>2</td>\n",
       "    </tr>\n",
       "    <tr>\n",
       "      <th>https://radiosputnik.ria.ru/20220111/lenoblast-1767310253.html</th>\n",
       "      <td>2</td>\n",
       "    </tr>\n",
       "    <tr>\n",
       "      <th>...</th>\n",
       "      <td>...</td>\n",
       "    </tr>\n",
       "    <tr>\n",
       "      <th>https://ria.ru/20211228/megafon-1765902629.html</th>\n",
       "      <td>2</td>\n",
       "    </tr>\n",
       "    <tr>\n",
       "      <th>https://ria.ru/20211229/kity-1766039795.html</th>\n",
       "      <td>2</td>\n",
       "    </tr>\n",
       "    <tr>\n",
       "      <th>https://radiosputnik.ria.ru/20211227/1765711626.html</th>\n",
       "      <td>2</td>\n",
       "    </tr>\n",
       "    <tr>\n",
       "      <th>https://ria.ru/20220114/kosulya-1767835405.html</th>\n",
       "      <td>2</td>\n",
       "    </tr>\n",
       "    <tr>\n",
       "      <th>https://ria.ru/20211229/koronavirus-1765926934.html</th>\n",
       "      <td>2</td>\n",
       "    </tr>\n",
       "  </tbody>\n",
       "</table>\n",
       "<p>94 rows × 1 columns</p>\n",
       "</div>"
      ],
      "text/plain": [
       "                                                    article_id\n",
       "https://ria.ru/20220113/dolzhniki-1767738212.html            2\n",
       "https://radiosputnik.ria.ru/20220115/dtp-176797...           2\n",
       "https://ria.ru/20211125/soyuz-1760642188.html                2\n",
       "https://ria.ru/20220110/pereboi-1767173614.html              2\n",
       "https://radiosputnik.ria.ru/20220111/lenoblast-...           2\n",
       "...                                                        ...\n",
       "https://ria.ru/20211228/megafon-1765902629.html              2\n",
       "https://ria.ru/20211229/kity-1766039795.html                 2\n",
       "https://radiosputnik.ria.ru/20211227/1765711626...           2\n",
       "https://ria.ru/20220114/kosulya-1767835405.html              2\n",
       "https://ria.ru/20211229/koronavirus-1765926934....           2\n",
       "\n",
       "[94 rows x 1 columns]"
      ]
     },
     "execution_count": 152,
     "metadata": {},
     "output_type": "execute_result"
    }
   ],
   "source": [
    "alinks = data['article_id'].value_counts()\n",
    "alinks[alinks > 1].to_frame()"
   ]
  },
  {
   "cell_type": "markdown",
   "metadata": {},
   "source": [
    "Можно видеть, что есть повторяющиеся по 2 раза ссылки. Детальнее рассмотрим записи с такими ссылками."
   ]
  },
  {
   "cell_type": "code",
   "execution_count": 153,
   "metadata": {},
   "outputs": [
    {
     "data": {
      "text/html": [
       "<div>\n",
       "<style scoped>\n",
       "    .dataframe tbody tr th:only-of-type {\n",
       "        vertical-align: middle;\n",
       "    }\n",
       "\n",
       "    .dataframe tbody tr th {\n",
       "        vertical-align: top;\n",
       "    }\n",
       "\n",
       "    .dataframe thead th {\n",
       "        text-align: right;\n",
       "    }\n",
       "</style>\n",
       "<table border=\"1\" class=\"dataframe\">\n",
       "  <thead>\n",
       "    <tr style=\"text-align: right;\">\n",
       "      <th></th>\n",
       "      <th>article_id</th>\n",
       "      <th>title</th>\n",
       "      <th>category</th>\n",
       "      <th>tags</th>\n",
       "      <th>text</th>\n",
       "    </tr>\n",
       "  </thead>\n",
       "  <tbody>\n",
       "    <tr>\n",
       "      <th>1980</th>\n",
       "      <td>https://ria.ru/20211230/vychet-1766198342.html</td>\n",
       "      <td>Эксперт оценил идею ввести налоговый вычет при...</td>\n",
       "      <td>economy</td>\n",
       "      <td>[Экономика, Общество, Авто, Институт исследова...</td>\n",
       "      <td>МОСКВА, 30 дек - РИА Новости. Предоставлять на...</td>\n",
       "    </tr>\n",
       "    <tr>\n",
       "      <th>4326</th>\n",
       "      <td>https://ria.ru/20211230/vychet-1766198342.html</td>\n",
       "      <td>Эксперт оценил идею ввести налоговый вычет при...</td>\n",
       "      <td>society</td>\n",
       "      <td>[Экономика, Общество, Авто, Институт исследова...</td>\n",
       "      <td>МОСКВА, 30 дек - РИА Новости. Предоставлять на...</td>\n",
       "    </tr>\n",
       "  </tbody>\n",
       "</table>\n",
       "</div>"
      ],
      "text/plain": [
       "                                          article_id  \\\n",
       "1980  https://ria.ru/20211230/vychet-1766198342.html   \n",
       "4326  https://ria.ru/20211230/vychet-1766198342.html   \n",
       "\n",
       "                                                  title category  \\\n",
       "1980  Эксперт оценил идею ввести налоговый вычет при...  economy   \n",
       "4326  Эксперт оценил идею ввести налоговый вычет при...  society   \n",
       "\n",
       "                                                   tags  \\\n",
       "1980  [Экономика, Общество, Авто, Институт исследова...   \n",
       "4326  [Экономика, Общество, Авто, Институт исследова...   \n",
       "\n",
       "                                                   text  \n",
       "1980  МОСКВА, 30 дек - РИА Новости. Предоставлять на...  \n",
       "4326  МОСКВА, 30 дек - РИА Новости. Предоставлять на...  "
      ]
     },
     "execution_count": 153,
     "metadata": {},
     "output_type": "execute_result"
    }
   ],
   "source": [
    "data[data['article_id'] == 'https://ria.ru/20211230/vychet-1766198342.html']"
   ]
  },
  {
   "cell_type": "markdown",
   "metadata": {},
   "source": [
    "Такие ссылки можно удалить все, под предлогом того, что они имеют спорные классы. Либо же можно оставить по 1 из них.  Воспользуемся 1 способом."
   ]
  },
  {
   "cell_type": "code",
   "execution_count": 154,
   "metadata": {},
   "outputs": [
    {
     "data": {
      "text/html": [
       "<div>\n",
       "<style scoped>\n",
       "    .dataframe tbody tr th:only-of-type {\n",
       "        vertical-align: middle;\n",
       "    }\n",
       "\n",
       "    .dataframe tbody tr th {\n",
       "        vertical-align: top;\n",
       "    }\n",
       "\n",
       "    .dataframe thead th {\n",
       "        text-align: right;\n",
       "    }\n",
       "</style>\n",
       "<table border=\"1\" class=\"dataframe\">\n",
       "  <thead>\n",
       "    <tr style=\"text-align: right;\">\n",
       "      <th></th>\n",
       "      <th>article_id</th>\n",
       "      <th>title</th>\n",
       "      <th>category</th>\n",
       "      <th>tags</th>\n",
       "      <th>text</th>\n",
       "    </tr>\n",
       "  </thead>\n",
       "  <tbody>\n",
       "    <tr>\n",
       "      <th>0</th>\n",
       "      <td>https://ria.ru/20220116/volki-1768107463.html</td>\n",
       "      <td>Прокуратура проверяет сообщения о нападениях в...</td>\n",
       "      <td>incidents</td>\n",
       "      <td>[Происшествия, Новгородская область]</td>\n",
       "      <td>С.-ПЕТЕРБУРГ, 16 янв - РИА Новости. Прокуратур...</td>\n",
       "    </tr>\n",
       "    <tr>\n",
       "      <th>1</th>\n",
       "      <td>https://ria.ru/20220116/salyut-1768103772.html</td>\n",
       "      <td>В Минводах салют выбил окна в многоэтажке и по...</td>\n",
       "      <td>incidents</td>\n",
       "      <td>[Происшествия, Минеральные Воды]</td>\n",
       "      <td>ПЯТИГОРСК, 16 янв - РИА Новости. Окна многоква...</td>\n",
       "    </tr>\n",
       "    <tr>\n",
       "      <th>2</th>\n",
       "      <td>https://ria.ru/20220116/dtp-1768101756.html</td>\n",
       "      <td>В ДПТ под Красноярском погибли два ребенка и в...</td>\n",
       "      <td>incidents</td>\n",
       "      <td>[Происшествия, Красноярск, Сосновоборск, Красн...</td>\n",
       "      <td>КРАСНОЯРСК, 16 янв - РИА Новости. Два малолетн...</td>\n",
       "    </tr>\n",
       "    <tr>\n",
       "      <th>3</th>\n",
       "      <td>https://ria.ru/20220116/pozhar-1768079480.html</td>\n",
       "      <td>В Новосибирске потушили загоревшуюся цистерну ...</td>\n",
       "      <td>incidents</td>\n",
       "      <td>[Происшествия, Новосибирская область, Октябрьс...</td>\n",
       "      <td>НОВОСИБИРСК, 16 янв – РИА Новости. Загоревшуюс...</td>\n",
       "    </tr>\n",
       "    <tr>\n",
       "      <th>4</th>\n",
       "      <td>https://ria.ru/20220116/tsisterna-1768078676.html</td>\n",
       "      <td>В Новосибирске загорелась цистерна с бензином</td>\n",
       "      <td>incidents</td>\n",
       "      <td>[Происшествия, Новосибирская область, Октябрьс...</td>\n",
       "      <td>НОВОСИБИРСК, 16 янв – РИА Новости. Цистерна с ...</td>\n",
       "    </tr>\n",
       "    <tr>\n",
       "      <th>...</th>\n",
       "      <td>...</td>\n",
       "      <td>...</td>\n",
       "      <td>...</td>\n",
       "      <td>...</td>\n",
       "      <td>...</td>\n",
       "    </tr>\n",
       "    <tr>\n",
       "      <th>7578</th>\n",
       "      <td>https://radiosputnik.ria.ru/20210810/tank-1745...</td>\n",
       "      <td>Российская армия получит 20 новых танков Т-14 ...</td>\n",
       "      <td>defense_safety</td>\n",
       "      <td>[В России, Безопасность, Технологии, Армата, А...</td>\n",
       "      <td>МОСКВА, 10 августа/ Радио Sputnik. В Вооруженн...</td>\n",
       "    </tr>\n",
       "    <tr>\n",
       "      <th>7579</th>\n",
       "      <td>https://ria.ru/20210810/tsirkon-1745190858.html</td>\n",
       "      <td>Испытания гиперзвуковой ракеты \"Циркон\" заверш...</td>\n",
       "      <td>defense_safety</td>\n",
       "      <td>[Новое оружие России, Безопасность, Министерст...</td>\n",
       "      <td>МОСКВА, 10 авг - РИА Новости. Государственные ...</td>\n",
       "    </tr>\n",
       "    <tr>\n",
       "      <th>7580</th>\n",
       "      <td>https://ria.ru/20210810/tanki-1745189008.html</td>\n",
       "      <td>Вооруженные силы до конца года получат 20 нове...</td>\n",
       "      <td>defense_safety</td>\n",
       "      <td>[Новое оружие России, Безопасность, Министерст...</td>\n",
       "      <td>МОСКВА, 10 авг — РИА Новости. До конца года в ...</td>\n",
       "    </tr>\n",
       "    <tr>\n",
       "      <th>7581</th>\n",
       "      <td>https://ria.ru/20210810/avangard-1745187277.html</td>\n",
       "      <td>Второй полк комплекса \"Авангард\" поступит на в...</td>\n",
       "      <td>defense_safety</td>\n",
       "      <td>[Новое оружие России, Безопасность, Сергей Шой...</td>\n",
       "      <td>МОСКВА, 10 авг - РИА Новости. Второй полк межк...</td>\n",
       "    </tr>\n",
       "    <tr>\n",
       "      <th>7582</th>\n",
       "      <td>https://ria.ru/20210810/ucheniya-1745182143.html</td>\n",
       "      <td>Россия проведет учения в Арктике</td>\n",
       "      <td>defense_safety</td>\n",
       "      <td>[Безопасность, Северный флот ВМФ России, Север...</td>\n",
       "      <td>МОСКВА, 10 авг - РИА Новости. Арктическая груп...</td>\n",
       "    </tr>\n",
       "  </tbody>\n",
       "</table>\n",
       "<p>7395 rows × 5 columns</p>\n",
       "</div>"
      ],
      "text/plain": [
       "                                             article_id  \\\n",
       "0         https://ria.ru/20220116/volki-1768107463.html   \n",
       "1        https://ria.ru/20220116/salyut-1768103772.html   \n",
       "2           https://ria.ru/20220116/dtp-1768101756.html   \n",
       "3        https://ria.ru/20220116/pozhar-1768079480.html   \n",
       "4     https://ria.ru/20220116/tsisterna-1768078676.html   \n",
       "...                                                 ...   \n",
       "7578  https://radiosputnik.ria.ru/20210810/tank-1745...   \n",
       "7579    https://ria.ru/20210810/tsirkon-1745190858.html   \n",
       "7580      https://ria.ru/20210810/tanki-1745189008.html   \n",
       "7581   https://ria.ru/20210810/avangard-1745187277.html   \n",
       "7582   https://ria.ru/20210810/ucheniya-1745182143.html   \n",
       "\n",
       "                                                  title        category  \\\n",
       "0     Прокуратура проверяет сообщения о нападениях в...       incidents   \n",
       "1     В Минводах салют выбил окна в многоэтажке и по...       incidents   \n",
       "2     В ДПТ под Красноярском погибли два ребенка и в...       incidents   \n",
       "3     В Новосибирске потушили загоревшуюся цистерну ...       incidents   \n",
       "4         В Новосибирске загорелась цистерна с бензином       incidents   \n",
       "...                                                 ...             ...   \n",
       "7578  Российская армия получит 20 новых танков Т-14 ...  defense_safety   \n",
       "7579  Испытания гиперзвуковой ракеты \"Циркон\" заверш...  defense_safety   \n",
       "7580  Вооруженные силы до конца года получат 20 нове...  defense_safety   \n",
       "7581  Второй полк комплекса \"Авангард\" поступит на в...  defense_safety   \n",
       "7582                   Россия проведет учения в Арктике  defense_safety   \n",
       "\n",
       "                                                   tags  \\\n",
       "0                  [Происшествия, Новгородская область]   \n",
       "1                      [Происшествия, Минеральные Воды]   \n",
       "2     [Происшествия, Красноярск, Сосновоборск, Красн...   \n",
       "3     [Происшествия, Новосибирская область, Октябрьс...   \n",
       "4     [Происшествия, Новосибирская область, Октябрьс...   \n",
       "...                                                 ...   \n",
       "7578  [В России, Безопасность, Технологии, Армата, А...   \n",
       "7579  [Новое оружие России, Безопасность, Министерст...   \n",
       "7580  [Новое оружие России, Безопасность, Министерст...   \n",
       "7581  [Новое оружие России, Безопасность, Сергей Шой...   \n",
       "7582  [Безопасность, Северный флот ВМФ России, Север...   \n",
       "\n",
       "                                                   text  \n",
       "0     С.-ПЕТЕРБУРГ, 16 янв - РИА Новости. Прокуратур...  \n",
       "1     ПЯТИГОРСК, 16 янв - РИА Новости. Окна многоква...  \n",
       "2     КРАСНОЯРСК, 16 янв - РИА Новости. Два малолетн...  \n",
       "3     НОВОСИБИРСК, 16 янв – РИА Новости. Загоревшуюс...  \n",
       "4     НОВОСИБИРСК, 16 янв – РИА Новости. Цистерна с ...  \n",
       "...                                                 ...  \n",
       "7578  МОСКВА, 10 августа/ Радио Sputnik. В Вооруженн...  \n",
       "7579  МОСКВА, 10 авг - РИА Новости. Государственные ...  \n",
       "7580  МОСКВА, 10 авг — РИА Новости. До конца года в ...  \n",
       "7581  МОСКВА, 10 авг - РИА Новости. Второй полк межк...  \n",
       "7582  МОСКВА, 10 авг - РИА Новости. Арктическая груп...  \n",
       "\n",
       "[7395 rows x 5 columns]"
      ]
     },
     "execution_count": 154,
     "metadata": {},
     "output_type": "execute_result"
    }
   ],
   "source": [
    "data_fixed = data[~data['article_id'].isin(alinks[alinks > 1].index)]\n",
    "data_fixed"
   ]
  },
  {
   "cell_type": "code",
   "execution_count": 155,
   "metadata": {},
   "outputs": [
    {
     "data": {
      "text/html": [
       "<div>\n",
       "<style scoped>\n",
       "    .dataframe tbody tr th:only-of-type {\n",
       "        vertical-align: middle;\n",
       "    }\n",
       "\n",
       "    .dataframe tbody tr th {\n",
       "        vertical-align: top;\n",
       "    }\n",
       "\n",
       "    .dataframe thead th {\n",
       "        text-align: right;\n",
       "    }\n",
       "</style>\n",
       "<table border=\"1\" class=\"dataframe\">\n",
       "  <thead>\n",
       "    <tr style=\"text-align: right;\">\n",
       "      <th></th>\n",
       "      <th>article_id</th>\n",
       "      <th>title</th>\n",
       "      <th>category</th>\n",
       "      <th>tags</th>\n",
       "      <th>text</th>\n",
       "    </tr>\n",
       "  </thead>\n",
       "  <tbody>\n",
       "  </tbody>\n",
       "</table>\n",
       "</div>"
      ],
      "text/plain": [
       "Empty DataFrame\n",
       "Columns: [article_id, title, category, tags, text]\n",
       "Index: []"
      ]
     },
     "execution_count": 155,
     "metadata": {},
     "output_type": "execute_result"
    }
   ],
   "source": [
    "data_fixed[data_fixed['article_id'].isin(alinks[alinks > 1].index)]"
   ]
  },
  {
   "cell_type": "code",
   "execution_count": 158,
   "metadata": {},
   "outputs": [
    {
     "data": {
      "text/plain": [
       "incidents         1587\n",
       "economy           1504\n",
       "society           1476\n",
       "defense_safety    1422\n",
       "science           1406\n",
       "Name: category, dtype: int64"
      ]
     },
     "execution_count": 158,
     "metadata": {},
     "output_type": "execute_result"
    }
   ],
   "source": [
    "data_fixed['category'].value_counts()"
   ]
  },
  {
   "cell_type": "markdown",
   "metadata": {},
   "source": [
    "Видим, что имеется больше 1000 уникальных статей каждй категории. Сохраним данные."
   ]
  },
  {
   "cell_type": "markdown",
   "metadata": {},
   "source": [
    "Также удалим записи, у которых пустая колонка текста."
   ]
  },
  {
   "cell_type": "code",
   "execution_count": 159,
   "metadata": {},
   "outputs": [
    {
     "data": {
      "text/html": [
       "<div>\n",
       "<style scoped>\n",
       "    .dataframe tbody tr th:only-of-type {\n",
       "        vertical-align: middle;\n",
       "    }\n",
       "\n",
       "    .dataframe tbody tr th {\n",
       "        vertical-align: top;\n",
       "    }\n",
       "\n",
       "    .dataframe thead th {\n",
       "        text-align: right;\n",
       "    }\n",
       "</style>\n",
       "<table border=\"1\" class=\"dataframe\">\n",
       "  <thead>\n",
       "    <tr style=\"text-align: right;\">\n",
       "      <th></th>\n",
       "      <th>article_id</th>\n",
       "      <th>title</th>\n",
       "      <th>category</th>\n",
       "      <th>tags</th>\n",
       "      <th>text</th>\n",
       "    </tr>\n",
       "  </thead>\n",
       "  <tbody>\n",
       "    <tr>\n",
       "      <th>0</th>\n",
       "      <td>https://ria.ru/20220116/volki-1768107463.html</td>\n",
       "      <td>Прокуратура проверяет сообщения о нападениях в...</td>\n",
       "      <td>incidents</td>\n",
       "      <td>[Происшествия, Новгородская область]</td>\n",
       "      <td>С.-ПЕТЕРБУРГ, 16 янв - РИА Новости. Прокуратур...</td>\n",
       "    </tr>\n",
       "    <tr>\n",
       "      <th>1</th>\n",
       "      <td>https://ria.ru/20220116/salyut-1768103772.html</td>\n",
       "      <td>В Минводах салют выбил окна в многоэтажке и по...</td>\n",
       "      <td>incidents</td>\n",
       "      <td>[Происшествия, Минеральные Воды]</td>\n",
       "      <td>ПЯТИГОРСК, 16 янв - РИА Новости. Окна многоква...</td>\n",
       "    </tr>\n",
       "    <tr>\n",
       "      <th>2</th>\n",
       "      <td>https://ria.ru/20220116/dtp-1768101756.html</td>\n",
       "      <td>В ДПТ под Красноярском погибли два ребенка и в...</td>\n",
       "      <td>incidents</td>\n",
       "      <td>[Происшествия, Красноярск, Сосновоборск, Красн...</td>\n",
       "      <td>КРАСНОЯРСК, 16 янв - РИА Новости. Два малолетн...</td>\n",
       "    </tr>\n",
       "    <tr>\n",
       "      <th>3</th>\n",
       "      <td>https://ria.ru/20220116/pozhar-1768079480.html</td>\n",
       "      <td>В Новосибирске потушили загоревшуюся цистерну ...</td>\n",
       "      <td>incidents</td>\n",
       "      <td>[Происшествия, Новосибирская область, Октябрьс...</td>\n",
       "      <td>НОВОСИБИРСК, 16 янв – РИА Новости. Загоревшуюс...</td>\n",
       "    </tr>\n",
       "    <tr>\n",
       "      <th>4</th>\n",
       "      <td>https://ria.ru/20220116/tsisterna-1768078676.html</td>\n",
       "      <td>В Новосибирске загорелась цистерна с бензином</td>\n",
       "      <td>incidents</td>\n",
       "      <td>[Происшествия, Новосибирская область, Октябрьс...</td>\n",
       "      <td>НОВОСИБИРСК, 16 янв – РИА Новости. Цистерна с ...</td>\n",
       "    </tr>\n",
       "    <tr>\n",
       "      <th>...</th>\n",
       "      <td>...</td>\n",
       "      <td>...</td>\n",
       "      <td>...</td>\n",
       "      <td>...</td>\n",
       "      <td>...</td>\n",
       "    </tr>\n",
       "    <tr>\n",
       "      <th>7578</th>\n",
       "      <td>https://radiosputnik.ria.ru/20210810/tank-1745...</td>\n",
       "      <td>Российская армия получит 20 новых танков Т-14 ...</td>\n",
       "      <td>defense_safety</td>\n",
       "      <td>[В России, Безопасность, Технологии, Армата, А...</td>\n",
       "      <td>МОСКВА, 10 августа/ Радио Sputnik. В Вооруженн...</td>\n",
       "    </tr>\n",
       "    <tr>\n",
       "      <th>7579</th>\n",
       "      <td>https://ria.ru/20210810/tsirkon-1745190858.html</td>\n",
       "      <td>Испытания гиперзвуковой ракеты \"Циркон\" заверш...</td>\n",
       "      <td>defense_safety</td>\n",
       "      <td>[Новое оружие России, Безопасность, Министерст...</td>\n",
       "      <td>МОСКВА, 10 авг - РИА Новости. Государственные ...</td>\n",
       "    </tr>\n",
       "    <tr>\n",
       "      <th>7580</th>\n",
       "      <td>https://ria.ru/20210810/tanki-1745189008.html</td>\n",
       "      <td>Вооруженные силы до конца года получат 20 нове...</td>\n",
       "      <td>defense_safety</td>\n",
       "      <td>[Новое оружие России, Безопасность, Министерст...</td>\n",
       "      <td>МОСКВА, 10 авг — РИА Новости. До конца года в ...</td>\n",
       "    </tr>\n",
       "    <tr>\n",
       "      <th>7581</th>\n",
       "      <td>https://ria.ru/20210810/avangard-1745187277.html</td>\n",
       "      <td>Второй полк комплекса \"Авангард\" поступит на в...</td>\n",
       "      <td>defense_safety</td>\n",
       "      <td>[Новое оружие России, Безопасность, Сергей Шой...</td>\n",
       "      <td>МОСКВА, 10 авг - РИА Новости. Второй полк межк...</td>\n",
       "    </tr>\n",
       "    <tr>\n",
       "      <th>7582</th>\n",
       "      <td>https://ria.ru/20210810/ucheniya-1745182143.html</td>\n",
       "      <td>Россия проведет учения в Арктике</td>\n",
       "      <td>defense_safety</td>\n",
       "      <td>[Безопасность, Северный флот ВМФ России, Север...</td>\n",
       "      <td>МОСКВА, 10 авг - РИА Новости. Арктическая груп...</td>\n",
       "    </tr>\n",
       "  </tbody>\n",
       "</table>\n",
       "<p>7393 rows × 5 columns</p>\n",
       "</div>"
      ],
      "text/plain": [
       "                                             article_id  \\\n",
       "0         https://ria.ru/20220116/volki-1768107463.html   \n",
       "1        https://ria.ru/20220116/salyut-1768103772.html   \n",
       "2           https://ria.ru/20220116/dtp-1768101756.html   \n",
       "3        https://ria.ru/20220116/pozhar-1768079480.html   \n",
       "4     https://ria.ru/20220116/tsisterna-1768078676.html   \n",
       "...                                                 ...   \n",
       "7578  https://radiosputnik.ria.ru/20210810/tank-1745...   \n",
       "7579    https://ria.ru/20210810/tsirkon-1745190858.html   \n",
       "7580      https://ria.ru/20210810/tanki-1745189008.html   \n",
       "7581   https://ria.ru/20210810/avangard-1745187277.html   \n",
       "7582   https://ria.ru/20210810/ucheniya-1745182143.html   \n",
       "\n",
       "                                                  title        category  \\\n",
       "0     Прокуратура проверяет сообщения о нападениях в...       incidents   \n",
       "1     В Минводах салют выбил окна в многоэтажке и по...       incidents   \n",
       "2     В ДПТ под Красноярском погибли два ребенка и в...       incidents   \n",
       "3     В Новосибирске потушили загоревшуюся цистерну ...       incidents   \n",
       "4         В Новосибирске загорелась цистерна с бензином       incidents   \n",
       "...                                                 ...             ...   \n",
       "7578  Российская армия получит 20 новых танков Т-14 ...  defense_safety   \n",
       "7579  Испытания гиперзвуковой ракеты \"Циркон\" заверш...  defense_safety   \n",
       "7580  Вооруженные силы до конца года получат 20 нове...  defense_safety   \n",
       "7581  Второй полк комплекса \"Авангард\" поступит на в...  defense_safety   \n",
       "7582                   Россия проведет учения в Арктике  defense_safety   \n",
       "\n",
       "                                                   tags  \\\n",
       "0                  [Происшествия, Новгородская область]   \n",
       "1                      [Происшествия, Минеральные Воды]   \n",
       "2     [Происшествия, Красноярск, Сосновоборск, Красн...   \n",
       "3     [Происшествия, Новосибирская область, Октябрьс...   \n",
       "4     [Происшествия, Новосибирская область, Октябрьс...   \n",
       "...                                                 ...   \n",
       "7578  [В России, Безопасность, Технологии, Армата, А...   \n",
       "7579  [Новое оружие России, Безопасность, Министерст...   \n",
       "7580  [Новое оружие России, Безопасность, Министерст...   \n",
       "7581  [Новое оружие России, Безопасность, Сергей Шой...   \n",
       "7582  [Безопасность, Северный флот ВМФ России, Север...   \n",
       "\n",
       "                                                   text  \n",
       "0     С.-ПЕТЕРБУРГ, 16 янв - РИА Новости. Прокуратур...  \n",
       "1     ПЯТИГОРСК, 16 янв - РИА Новости. Окна многоква...  \n",
       "2     КРАСНОЯРСК, 16 янв - РИА Новости. Два малолетн...  \n",
       "3     НОВОСИБИРСК, 16 янв – РИА Новости. Загоревшуюс...  \n",
       "4     НОВОСИБИРСК, 16 янв – РИА Новости. Цистерна с ...  \n",
       "...                                                 ...  \n",
       "7578  МОСКВА, 10 августа/ Радио Sputnik. В Вооруженн...  \n",
       "7579  МОСКВА, 10 авг - РИА Новости. Государственные ...  \n",
       "7580  МОСКВА, 10 авг — РИА Новости. До конца года в ...  \n",
       "7581  МОСКВА, 10 авг - РИА Новости. Второй полк межк...  \n",
       "7582  МОСКВА, 10 авг - РИА Новости. Арктическая груп...  \n",
       "\n",
       "[7393 rows x 5 columns]"
      ]
     },
     "execution_count": 159,
     "metadata": {},
     "output_type": "execute_result"
    }
   ],
   "source": [
    "data_fixed = data_fixed[data_fixed['text'].apply(len) > 0]\n",
    "data_fixed"
   ]
  },
  {
   "cell_type": "markdown",
   "metadata": {},
   "source": [
    "## 4. Конвертирование в JSON формат"
   ]
  },
  {
   "cell_type": "code",
   "execution_count": 160,
   "metadata": {},
   "outputs": [],
   "source": [
    "js = json.loads(data_fixed.to_json(force_ascii=False, orient='records'))"
   ]
  },
  {
   "cell_type": "code",
   "execution_count": 161,
   "metadata": {
    "scrolled": true
   },
   "outputs": [],
   "source": [
    "with open('corpus.json', 'w') as file:\n",
    "    for i in js:\n",
    "        file.write(json.dumps(i) + '\\n')"
   ]
  },
  {
   "cell_type": "code",
   "execution_count": null,
   "metadata": {},
   "outputs": [],
   "source": []
  }
 ],
 "metadata": {
  "kernelspec": {
   "display_name": "Python 3",
   "language": "python",
   "name": "python3"
  },
  "language_info": {
   "codemirror_mode": {
    "name": "ipython",
    "version": 3
   },
   "file_extension": ".py",
   "mimetype": "text/x-python",
   "name": "python",
   "nbconvert_exporter": "python",
   "pygments_lexer": "ipython3",
   "version": "3.8.8"
  }
 },
 "nbformat": 4,
 "nbformat_minor": 2
}
